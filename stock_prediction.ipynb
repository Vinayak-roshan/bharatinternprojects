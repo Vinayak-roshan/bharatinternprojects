{
 "cells": [
  {
   "cell_type": "code",
   "execution_count": 194,
   "metadata": {},
   "outputs": [],
   "source": [
    "import pandas as pd\n",
    "import numpy as np\n",
    "import matplotlib.pyplot as plt\n",
    "from datetime import datetime, timedelta\n",
    "\n",
    "from sklearn.linear_model import LinearRegression, Ridge, Lasso\n",
    "from sklearn import preprocessing\n",
    "from sklearn.model_selection import train_test_split\n",
    "\n",
    "df = pd.read_csv('./TSLA.csv')\n",
    "\n",
    "df['Date'] = pd.to_datetime(df.Date, format='%Y-%m-%d') # Converts string to datetime\n",
    "df = df.set_index('Date') # Set the index of dataframe to date column"
   ]
  },
  {
   "cell_type": "code",
   "execution_count": 195,
   "metadata": {},
   "outputs": [
    {
     "data": {
      "text/html": [
       "<div>\n",
       "<style>\n",
       "    .dataframe thead tr:only-child th {\n",
       "        text-align: right;\n",
       "    }\n",
       "\n",
       "    .dataframe thead th {\n",
       "        text-align: left;\n",
       "    }\n",
       "\n",
       "    .dataframe tbody tr th {\n",
       "        vertical-align: top;\n",
       "    }\n",
       "</style>\n",
       "<table border=\"1\" class=\"dataframe\">\n",
       "  <thead>\n",
       "    <tr style=\"text-align: right;\">\n",
       "      <th></th>\n",
       "      <th>Open</th>\n",
       "      <th>High</th>\n",
       "      <th>Low</th>\n",
       "      <th>Close</th>\n",
       "      <th>Adj Close</th>\n",
       "      <th>Volume</th>\n",
       "    </tr>\n",
       "    <tr>\n",
       "      <th>Date</th>\n",
       "      <th></th>\n",
       "      <th></th>\n",
       "      <th></th>\n",
       "      <th></th>\n",
       "      <th></th>\n",
       "      <th></th>\n",
       "    </tr>\n",
       "  </thead>\n",
       "  <tbody>\n",
       "    <tr>\n",
       "      <th>2010-06-29</th>\n",
       "      <td>19.000000</td>\n",
       "      <td>25.00</td>\n",
       "      <td>17.540001</td>\n",
       "      <td>23.889999</td>\n",
       "      <td>23.889999</td>\n",
       "      <td>18766300</td>\n",
       "    </tr>\n",
       "    <tr>\n",
       "      <th>2010-06-30</th>\n",
       "      <td>25.790001</td>\n",
       "      <td>30.42</td>\n",
       "      <td>23.299999</td>\n",
       "      <td>23.830000</td>\n",
       "      <td>23.830000</td>\n",
       "      <td>17187100</td>\n",
       "    </tr>\n",
       "    <tr>\n",
       "      <th>2010-07-01</th>\n",
       "      <td>25.000000</td>\n",
       "      <td>25.92</td>\n",
       "      <td>20.270000</td>\n",
       "      <td>21.959999</td>\n",
       "      <td>21.959999</td>\n",
       "      <td>8218800</td>\n",
       "    </tr>\n",
       "    <tr>\n",
       "      <th>2010-07-02</th>\n",
       "      <td>23.000000</td>\n",
       "      <td>23.10</td>\n",
       "      <td>18.709999</td>\n",
       "      <td>19.200001</td>\n",
       "      <td>19.200001</td>\n",
       "      <td>5139800</td>\n",
       "    </tr>\n",
       "    <tr>\n",
       "      <th>2010-07-06</th>\n",
       "      <td>20.000000</td>\n",
       "      <td>20.00</td>\n",
       "      <td>15.830000</td>\n",
       "      <td>16.110001</td>\n",
       "      <td>16.110001</td>\n",
       "      <td>6866900</td>\n",
       "    </tr>\n",
       "  </tbody>\n",
       "</table>\n",
       "</div>"
      ],
      "text/plain": [
       "                 Open   High        Low      Close  Adj Close    Volume\n",
       "Date                                                                   \n",
       "2010-06-29  19.000000  25.00  17.540001  23.889999  23.889999  18766300\n",
       "2010-06-30  25.790001  30.42  23.299999  23.830000  23.830000  17187100\n",
       "2010-07-01  25.000000  25.92  20.270000  21.959999  21.959999   8218800\n",
       "2010-07-02  23.000000  23.10  18.709999  19.200001  19.200001   5139800\n",
       "2010-07-06  20.000000  20.00  15.830000  16.110001  16.110001   6866900"
      ]
     },
     "execution_count": 195,
     "metadata": {},
     "output_type": "execute_result"
    }
   ],
   "source": [
    "df.head()"
   ]
  },
  {
   "cell_type": "code",
   "execution_count": 196,
   "metadata": {},
   "outputs": [
    {
     "data": {
      "text/html": [
       "<div>\n",
       "<style>\n",
       "    .dataframe thead tr:only-child th {\n",
       "        text-align: right;\n",
       "    }\n",
       "\n",
       "    .dataframe thead th {\n",
       "        text-align: left;\n",
       "    }\n",
       "\n",
       "    .dataframe tbody tr th {\n",
       "        vertical-align: top;\n",
       "    }\n",
       "</style>\n",
       "<table border=\"1\" class=\"dataframe\">\n",
       "  <thead>\n",
       "    <tr style=\"text-align: right;\">\n",
       "      <th></th>\n",
       "      <th>Open</th>\n",
       "      <th>High</th>\n",
       "      <th>Low</th>\n",
       "      <th>Close</th>\n",
       "      <th>Adj Close</th>\n",
       "      <th>Volume</th>\n",
       "    </tr>\n",
       "    <tr>\n",
       "      <th>Date</th>\n",
       "      <th></th>\n",
       "      <th></th>\n",
       "      <th></th>\n",
       "      <th></th>\n",
       "      <th></th>\n",
       "      <th></th>\n",
       "    </tr>\n",
       "  </thead>\n",
       "  <tbody>\n",
       "    <tr>\n",
       "      <th>2019-08-26</th>\n",
       "      <td>213.600006</td>\n",
       "      <td>215.020004</td>\n",
       "      <td>211.539993</td>\n",
       "      <td>215.000000</td>\n",
       "      <td>215.000000</td>\n",
       "      <td>5051900</td>\n",
       "    </tr>\n",
       "    <tr>\n",
       "      <th>2019-08-27</th>\n",
       "      <td>215.740005</td>\n",
       "      <td>218.800003</td>\n",
       "      <td>212.029999</td>\n",
       "      <td>214.080002</td>\n",
       "      <td>214.080002</td>\n",
       "      <td>5416200</td>\n",
       "    </tr>\n",
       "    <tr>\n",
       "      <th>2019-08-28</th>\n",
       "      <td>213.690002</td>\n",
       "      <td>217.250000</td>\n",
       "      <td>212.309998</td>\n",
       "      <td>215.589996</td>\n",
       "      <td>215.589996</td>\n",
       "      <td>3225500</td>\n",
       "    </tr>\n",
       "    <tr>\n",
       "      <th>2019-08-29</th>\n",
       "      <td>219.000000</td>\n",
       "      <td>223.399994</td>\n",
       "      <td>218.000000</td>\n",
       "      <td>221.710007</td>\n",
       "      <td>221.710007</td>\n",
       "      <td>5179500</td>\n",
       "    </tr>\n",
       "    <tr>\n",
       "      <th>2019-08-30</th>\n",
       "      <td>229.149994</td>\n",
       "      <td>232.440002</td>\n",
       "      <td>224.210007</td>\n",
       "      <td>225.610001</td>\n",
       "      <td>225.610001</td>\n",
       "      <td>9320600</td>\n",
       "    </tr>\n",
       "  </tbody>\n",
       "</table>\n",
       "</div>"
      ],
      "text/plain": [
       "                  Open        High         Low       Close   Adj Close  \\\n",
       "Date                                                                     \n",
       "2019-08-26  213.600006  215.020004  211.539993  215.000000  215.000000   \n",
       "2019-08-27  215.740005  218.800003  212.029999  214.080002  214.080002   \n",
       "2019-08-28  213.690002  217.250000  212.309998  215.589996  215.589996   \n",
       "2019-08-29  219.000000  223.399994  218.000000  221.710007  221.710007   \n",
       "2019-08-30  229.149994  232.440002  224.210007  225.610001  225.610001   \n",
       "\n",
       "             Volume  \n",
       "Date                 \n",
       "2019-08-26  5051900  \n",
       "2019-08-27  5416200  \n",
       "2019-08-28  3225500  \n",
       "2019-08-29  5179500  \n",
       "2019-08-30  9320600  "
      ]
     },
     "execution_count": 196,
     "metadata": {},
     "output_type": "execute_result"
    }
   ],
   "source": [
    "df.tail()"
   ]
  },
  {
   "cell_type": "code",
   "execution_count": 197,
   "metadata": {},
   "outputs": [],
   "source": [
    "forecast_out = 60 # Number of how many days to forecast\n",
    "df['Prediction'] = df['Adj Close'].shift(-forecast_out)"
   ]
  },
  {
   "cell_type": "code",
   "execution_count": 198,
   "metadata": {},
   "outputs": [],
   "source": [
    "x = np.array(df.drop(['Prediction'], 1))\n",
    "x = x[:-forecast_out]"
   ]
  },
  {
   "cell_type": "code",
   "execution_count": 199,
   "metadata": {},
   "outputs": [],
   "source": [
    "y = np.array(df['Prediction'])\n",
    "y = y[:-forecast_out]"
   ]
  },
  {
   "cell_type": "code",
   "execution_count": 200,
   "metadata": {},
   "outputs": [],
   "source": [
    "x_train, x_test, y_train, y_test = train_test_split(x, y, test_size = 0.2)"
   ]
  },
  {
   "cell_type": "code",
   "execution_count": 201,
   "metadata": {},
   "outputs": [
    {
     "name": "stderr",
     "output_type": "stream",
     "text": [
      "/Library/Frameworks/Python.framework/Versions/3.5/lib/python3.5/site-packages/scipy/linalg/basic.py:40: RuntimeWarning: scipy.linalg.solve\n",
      "Ill-conditioned matrix detected. Result is not guaranteed to be accurate.\n",
      "Reciprocal condition number/precision: 6.691803779303069e-17 / 1.1102230246251565e-16\n",
      "  RuntimeWarning)\n",
      "/Library/Frameworks/Python.framework/Versions/3.5/lib/python3.5/site-packages/sklearn/linear_model/coordinate_descent.py:491: ConvergenceWarning: Objective did not converge. You might want to increase the number of iterations. Fitting data with very small alpha may cause precision problems.\n",
      "  ConvergenceWarning)\n"
     ]
    },
    {
     "data": {
      "text/plain": [
       "Lasso(alpha=1.0, copy_X=True, fit_intercept=True, max_iter=1000,\n",
       "   normalize=False, positive=False, precompute=False, random_state=None,\n",
       "   selection='cyclic', tol=0.0001, warm_start=False)"
      ]
     },
     "execution_count": 201,
     "metadata": {},
     "output_type": "execute_result"
    }
   ],
   "source": [
    "linear_model = LinearRegression()\n",
    "ridge_model = Ridge()\n",
    "lasso_model = Lasso()\n",
    "\n",
    "linear_model.fit(x_train, y_train)\n",
    "ridge_model.fit(x_train, y_train)\n",
    "lasso_model.fit(x_train, y_train)"
   ]
  },
  {
   "cell_type": "code",
   "execution_count": 202,
   "metadata": {},
   "outputs": [
    {
     "name": "stdout",
     "output_type": "stream",
     "text": [
      "LinearModel score: 0.8962620380667445\n",
      "RidgeModel score: 0.8962624164359569\n",
      "LassoModel score: 0.8973052289701035\n"
     ]
    }
   ],
   "source": [
    "linear_model_score = linear_model.score(x_test, y_test)\n",
    "print('LinearModel score:', linear_model_score)\n",
    "\n",
    "ridge_model_score = ridge_model.score(x_test, y_test)\n",
    "print('RidgeModel score:', ridge_model_score)\n",
    "\n",
    "lasso_model_score = lasso_model.score(x_test, y_test)\n",
    "print('LassoModel score:', lasso_model_score)"
   ]
  },
  {
   "cell_type": "code",
   "execution_count": 203,
   "metadata": {},
   "outputs": [],
   "source": [
    "x_forecast = np.array(df.drop(['Prediction'], 1))[-forecast_out:]\n",
    "linear_model_forecast_prediction = linear_model.predict(x_forecast)\n",
    "linear_model_real_prediction = linear_model.predict(np.array(df.drop(['Prediction'], 1)))\n",
    "ridge_model_forecast_prediction = ridge_model.predict(x_forecast)\n",
    "ridge_model_real_prediction = ridge_model.predict(np.array(df.drop(['Prediction'], 1)))\n",
    "lasso_model_forecast_prediction = lasso_model.predict(x_forecast)\n",
    "lasso_model_real_prediction = lasso_model.predict(np.array(df.drop(['Prediction'], 1)))"
   ]
  },
  {
   "cell_type": "code",
   "execution_count": 204,
   "metadata": {},
   "outputs": [
    {
     "data": {
      "text/plain": [
       "<matplotlib.legend.Legend at 0x1275c6da0>"
      ]
     },
     "execution_count": 204,
     "metadata": {},
     "output_type": "execute_result"
    },
    {
     "data": {
      "image/png": "[encoded data removed]",
      "text/plain": [
       "<Figure size 432x288 with 1 Axes>"
      ]
     },
     "metadata": {
      "needs_background": "light"
     },
     "output_type": "display_data"
    }
   ],
   "source": [
    "predicted_dates = []\n",
    "recent_date = df.index.max()\n",
    "display_at = 2100\n",
    "alpha = 0.5\n",
    "\n",
    "for i in range(forecast_out):\n",
    "    recent_date += timedelta(days=1)\n",
    "    predicted_dates.append(recent_date)\n",
    "\n",
    "plt.plot(df.index[display_at:], linear_model_real_prediction[display_at:], label='Linear Preds', c='blue', alpha=alpha)\n",
    "plt.plot(predicted_dates, linear_model_forecast_prediction, c='blue', alpha=alpha)\n",
    "plt.plot(df.index[display_at:], ridge_model_real_prediction[display_at:], label='Ridge Preds', c='green', alpha=alpha)\n",
    "plt.plot(predicted_dates, ridge_model_forecast_prediction, c='green', alpha=alpha)\n",
    "plt.plot(df.index[display_at:], lasso_model_real_prediction[display_at:], label='Lasso Preds', c='red', alpha=alpha)\n",
    "plt.plot(predicted_dates, lasso_model_forecast_prediction, c='red', alpha=alpha)\n",
    "plt.plot(df.index[display_at:], df['Close'][display_at:], label='AMD', c='black', linewidth=3)\n",
    "plt.legend()"
   ]
  }
 ],
 "metadata": {
  "kernelspec": {
   "display_name": "Python 3",
   "language": "python",
   "name": "python3"
  },
  "language_info": {
   "codemirror_mode": {
    "name": "ipython",
    "version": 3
   },
   "file_extension": ".py",
   "mimetype": "text/x-python",
   "name": "python",
   "nbconvert_exporter": "python",
   "pygments_lexer": "ipython3",
   "version": "3.5.0"
  }
 },
 "nbformat": 4,
 "nbformat_minor": 2
}
